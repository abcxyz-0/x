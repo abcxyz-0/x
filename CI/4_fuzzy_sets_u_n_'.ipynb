{
 "cells": [
  {
   "cell_type": "code",
   "execution_count": 7,
   "metadata": {},
   "outputs": [
    {
     "name": "stdout",
     "output_type": "stream",
     "text": [
      "set a :[0.2 0.4 0.6 0.8] , Set B : [0.3 0.5 0.7 0.9]\n",
      "Union: [0.3 0.5 0.7 0.9]\n",
      "Intersection: [0.2 0.4 0.6 0.8]\n",
      "Complement of A: [0.8 0.6 0.4 0.2]\n",
      "Difference: [0.7 0.5 0.6 0.8]\n",
      "Cartesian product of R and S:\n",
      "[[0.12 0.06 0.14]\n",
      " [0.3  0.15 0.35]\n",
      " [0.24 0.12 0.28]]\n",
      "Max-Min composition of R and S:\n",
      "[0.2 0.5 0.4]\n"
     ]
    }
   ],
   "source": [
    "import numpy as np\n",
    "\n",
    "# Function to perform Union operation on fuzzy sets\n",
    "def fuzzy_union(A, B):\n",
    "    return np.maximum(A, B)\n",
    "\n",
    "# Function to perform Intersection operation on fuzzy sets\n",
    "def fuzzy_intersection(A, B):\n",
    "    return np.minimum(A, B)\n",
    "\n",
    "# Function to perform Complement operation on a fuzzy set\n",
    "def fuzzy_complement(A):\n",
    "    return 1 - A\n",
    "\n",
    "# Function to perform Difference operation on fuzzy sets\n",
    "def fuzzy_difference(A, B):\n",
    "    return np.maximum(A, 1 - B)\n",
    "\n",
    "# Function to create fuzzy relation by Cartesian product of two fuzzy sets\n",
    "def cartesian_product(A, B):\n",
    "    return np.outer(A, B)\n",
    "\n",
    "# Function to perform Max-Min composition on two fuzzy relations\n",
    "def max_min_composition(R, S):\n",
    "    return np.max(np.minimum.outer(R, S), axis=1)\n",
    "\n",
    "# Example usage\n",
    "A = np.array([0.2, 0.4, 0.6, 0.8]) # Fuzzy set A\n",
    "B = np.array([0.3, 0.5, 0.7, 0.9]) # Fuzzy set B\n",
    "print (f\"set a :{A} , Set B : {B}\")\n",
    "# Operations on fuzzy sets\n",
    "union_result = fuzzy_union(A, B)\n",
    "intersection_result = fuzzy_intersection(A, B)\n",
    "complement_A = fuzzy_complement(A)\n",
    "difference_result = fuzzy_difference(A, B)\n",
    "\n",
    "print(\"Union:\", union_result)\n",
    "print(\"Intersection:\", intersection_result)\n",
    "print(\"Complement of A:\", complement_A)\n",
    "print(\"Difference:\", difference_result)\n",
    "\n",
    "# Fuzzy relations\n",
    "R = np.array([0.2, 0.5, 0.4]) # Fuzzy relation R\n",
    "S = np.array([0.6, 0.3, 0.7]) # Fuzzy relation S\n",
    "\n",
    "# Cartesian product of fuzzy relations\n",
    "cartesian_result = cartesian_product(R, S)\n",
    "\n",
    "# Max-Min composition of fuzzy relations\n",
    "composition_result = max_min_composition(R, S)\n",
    "\n",
    "print(\"Cartesian product of R and S:\")\n",
    "print(cartesian_result)\n",
    "\n",
    "print(\"Max-Min composition of R and S:\")\n",
    "print(composition_result)\n"
   ]
  },
  {
   "cell_type": "code",
   "execution_count": null,
   "metadata": {},
   "outputs": [],
   "source": []
  }
 ],
 "metadata": {
  "kernelspec": {
   "display_name": "Python 3",
   "language": "python",
   "name": "python3"
  },
  "language_info": {
   "codemirror_mode": {
    "name": "ipython",
    "version": 3
   },
   "file_extension": ".py",
   "mimetype": "text/x-python",
   "name": "python",
   "nbconvert_exporter": "python",
   "pygments_lexer": "ipython3",
   "version": "3.9.16"
  }
 },
 "nbformat": 4,
 "nbformat_minor": 2
}
