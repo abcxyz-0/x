{
 "cells": [
  {
   "cell_type": "markdown",
   "metadata": {},
   "source": [
    "Optimization of genetic algorithm parameter in hybrid genetic\n",
    "algorithm-neural network modelling: Application to spray drying of\n",
    "coconut milk."
   ]
  },
  {
   "cell_type": "code",
   "execution_count": 1,
   "metadata": {},
   "outputs": [
    {
     "name": "stdout",
     "output_type": "stream",
     "text": [
      "Note: you may need to restart the kernel to use updated packages.Requirement already satisfied: deap in a:\\project\\ml_project_01\\venv\\lib\\site-packages (1.4.1)\n",
      "Requirement already satisfied: numpy in a:\\project\\ml_project_01\\venv\\lib\\site-packages (from deap) (1.23.5)\n",
      "\n"
     ]
    }
   ],
   "source": [
    "pip install deap"
   ]
  },
  {
   "cell_type": "code",
   "execution_count": 25,
   "metadata": {},
   "outputs": [],
   "source": []
  },
  {
   "cell_type": "code",
   "execution_count": 26,
   "metadata": {},
   "outputs": [
    {
     "name": "stdout",
     "output_type": "stream",
     "text": [
      "Best Parameters: [22, 4]\n"
     ]
    },
    {
     "name": "stderr",
     "output_type": "stream",
     "text": [
      "a:\\Project\\ML_project_01\\venv\\lib\\site-packages\\deap\\creator.py:185: RuntimeWarning:\n",
      "\n",
      "A class named 'FitnessMin' has already been created and it will be overwritten. Consider deleting previous creation of that class or rename it.\n",
      "\n",
      "a:\\Project\\ML_project_01\\venv\\lib\\site-packages\\deap\\creator.py:185: RuntimeWarning:\n",
      "\n",
      "A class named 'Individual' has already been created and it will be overwritten. Consider deleting previous creation of that class or rename it.\n",
      "\n"
     ]
    }
   ],
   "source": [
    "import random\n",
    "\n",
    "from deap import base, creator, tools, algorithms\n",
    "\n",
    "def evaluate(individual):\n",
    "    return random.random(),\n",
    "\n",
    "# Define genetic algorithm parameters\n",
    "\n",
    "POPULATION_SIZE = 10\n",
    "\n",
    "GENERATIONS = 5\n",
    "\n",
    "# Create types for fitness and individuals in the genetic algorithm\n",
    "\n",
    "creator.create(\"FitnessMin\", base.Fitness, weights=(-1.0,))\n",
    "\n",
    "creator.create(\"Individual\", list, fitness=creator.FitnessMin)\n",
    "\n",
    "# Initialize toolbox\n",
    "\n",
    "toolbox = base.Toolbox()\n",
    "\n",
    "# Define attributes and individuals\n",
    "\n",
    "toolbox.register(\"attr_neurons\", random.randint, 1, 100)  # Example: number of neurons\n",
    "\n",
    "toolbox.register(\"attr_layers\", random.randint, 1, 5)  # Example: number of layers\n",
    "\n",
    "toolbox.register(\"individual\", tools.initCycle, creator.Individual, (toolbox.attr_neurons,\n",
    "\n",
    "                                                                      toolbox.attr_layers), n=1)\n",
    "\n",
    "toolbox.register(\"population\", tools.initRepeat, list, toolbox.individual)\n",
    "\n",
    "# Genetic operators\n",
    "\n",
    "toolbox.register(\"evaluate\", evaluate)\n",
    "\n",
    "toolbox.register(\"mate\", tools.cxTwoPoint)\n",
    "\n",
    "toolbox.register(\"mutate\", tools.mutUniformInt, low=1, up=100, indpb=0.2)\n",
    "\n",
    "toolbox.register(\"select\", tools.selTournament, tournsize=3)\n",
    "\n",
    "# Create initial population\n",
    "\n",
    "population = toolbox.population(n=POPULATION_SIZE)\n",
    "\n",
    "# Run the genetic algorithm\n",
    "\n",
    "for gen in range(GENERATIONS):\n",
    "\n",
    "    offspring = algorithms.varAnd(population, toolbox, cxpb=0.5, mutpb=0.1)\n",
    "\n",
    "    fitnesses = toolbox.map(toolbox.evaluate, offspring)\n",
    "\n",
    "    for ind, fit in zip(offspring, fitnesses):\n",
    "\n",
    "        ind.fitness.values = fit\n",
    "\n",
    "    population = toolbox.select(offspring, k=len(population))\n",
    "\n",
    "# Get the best individual from the final population\n",
    "\n",
    "best_individual = tools.selBest(population, k=1)[0]\n",
    "\n",
    "best_params = best_individual\n",
    "\n",
    "# Print the best parameters found\n",
    "\n",
    "print(\"Best Parameters:\", best_params)\n",
    "\n",
    "\n"
   ]
  },
  {
   "cell_type": "code",
   "execution_count": 27,
   "metadata": {},
   "outputs": [
    {
     "data": {
      "image/png": "[encoded data removed]",
      "text/plain": [
       "<Figure size 576x432 with 1 Axes>"
      ]
     },
     "metadata": {
      "needs_background": "light"
     },
     "output_type": "display_data"
    }
   ],
   "source": [
    "import matplotlib.pyplot as plt\n",
    "\n",
    "# Extract the number of neurons and number of layers for each individual in the final population\n",
    "neurons = [ind[0] for ind in population]\n",
    "layers = [ind[1] for ind in population]\n",
    "\n",
    "# Plot the scatter plot\n",
    "plt.figure(figsize=(8, 6))\n",
    "plt.scatter(neurons, layers, c='b', label='Population')\n",
    "plt.scatter(best_params[0], best_params[1], c='r', label='Best Individual', marker='x', s=100)\n",
    "plt.xlabel('Number of Neurons')\n",
    "plt.ylabel('Number of Layers')\n",
    "plt.title('Best Parameters Found by Genetic Algorithm')\n",
    "plt.legend()\n",
    "plt.grid(True)\n",
    "plt.show()\n"
   ]
  },
  {
   "cell_type": "code",
   "execution_count": null,
   "metadata": {},
   "outputs": [],
   "source": []
  },
  {
   "cell_type": "code",
   "execution_count": null,
   "metadata": {},
   "outputs": [],
   "source": []
  }
 ],
 "metadata": {
  "kernelspec": {
   "display_name": "Python 3",
   "language": "python",
   "name": "python3"
  },
  "language_info": {
   "codemirror_mode": {
    "name": "ipython",
    "version": 3
   },
   "file_extension": ".py",
   "mimetype": "text/x-python",
   "name": "python",
   "nbconvert_exporter": "python",
   "pygments_lexer": "ipython3",
   "version": "3.9.16"
  }
 },
 "nbformat": 4,
 "nbformat_minor": 2
}
