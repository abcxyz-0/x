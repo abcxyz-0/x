{
 "cells": [
  {
   "cell_type": "markdown",
   "metadata": {},
   "source": [
    "The Clonal Selection Algorithm (CSA) is a computational optimization algorithm inspired by the immune system's clonal selection process, where it clones and mutates high-affinity immune cells to improve their antigen recognition, effectively mimicking an adaptive search process for optimization problems."
   ]
  },
  {
   "cell_type": "code",
   "execution_count": 21,
   "metadata": {},
   "outputs": [],
   "source": [
    "#select -> clone -> mutate (hybrid antibody) -> reselect (best individual) -> replace"
   ]
  },
  {
   "cell_type": "code",
   "execution_count": 37,
   "metadata": {},
   "outputs": [],
   "source": [
    "import random\n",
    "import numpy as np\n",
    "\n",
    "# Define the objective function\n",
    "def objective_function(x):\n",
    "    return sum([i**2 for i in x])"
   ]
  },
  {
   "cell_type": "code",
   "execution_count": 38,
   "metadata": {},
   "outputs": [],
   "source": [
    "# Initialize population / select n_antibody-> population\n",
    "def initialize_population(pop_size, dimensions, lower_bound, upper_bound):\n",
    "    population = []\n",
    "    for _ in range(pop_size):\n",
    "        individual = np.random.uniform(lower_bound, upper_bound, dimensions)\n",
    "        population.append(individual)\n",
    "    return population\n"
   ]
  },
  {
   "cell_type": "code",
   "execution_count": 39,
   "metadata": {},
   "outputs": [],
   "source": [
    "# Clone an individual/ antibody clone\n",
    "def clone_individual(individual, clone_factor):\n",
    "    clones = []\n",
    "    for _ in range(clone_factor):\n",
    "        clone = np.array(individual)\n",
    "        for i in range(len(clone)):\n",
    "          mutation_rate = random.uniform(0, 1)\n",
    "          if mutation_rate < 0.5:\n",
    "            clone[i] += random.uniform(-1, 1)\n",
    "    clones.append(clone)\n",
    "    return clones"
   ]
  },
  {
   "cell_type": "code",
   "execution_count": 40,
   "metadata": {},
   "outputs": [],
   "source": [
    "# Select the best individuals / reselect\n",
    "def select_best(population, num_selected, num_clones, clone_factor):\n",
    "    population.sort(key=lambda x: objective_function(x))\n",
    "    selected = []\n",
    "    for i in range(min(len(population), num_selected)):\n",
    "        clones = clone_individual(population[i], clone_factor)\n",
    "        selected.extend(clones)\n",
    "    return selected[:num_clones]"
   ]
  },
  {
   "cell_type": "code",
   "execution_count": 41,
   "metadata": {},
   "outputs": [],
   "source": [
    "# Main function for clonal selection algorithm\n",
    "def clonal_selection_algorithm(pop_size, dimensions, lower_bound, upper_bound,num_generations, num_selected, num_clones, clone_factor):\n",
    "    population = initialize_population(pop_size, dimensions, lower_bound, upper_bound)\n",
    "    for _ in range(num_generations):\n",
    "        selected = select_best(population, num_selected, num_clones, clone_factor)\n",
    "        population = selected\n",
    "    best_solution = min(population, key=lambda x: objective_function(x))\n",
    "    return best_solution, objective_function(best_solution)\n"
   ]
  },
  {
   "cell_type": "code",
   "execution_count": 42,
   "metadata": {},
   "outputs": [
    {
     "name": "stdout",
     "output_type": "stream",
     "text": [
      "Best solution: [0.1590578  0.79266842]\n",
      "Best fitness: 0.6536226082484858\n"
     ]
    }
   ],
   "source": [
    "\n",
    "if __name__ == \"__main__\":\n",
    "    pop_size = 100\n",
    "    dimensions = 2\n",
    "    lower_bound = -5.0\n",
    "    upper_bound = 5.0\n",
    "    num_generations = 100\n",
    "    num_selected = 10\n",
    "    num_clones = 5\n",
    "    clone_factor = 3\n",
    "\n",
    "best_solution, best_fitness = clonal_selection_algorithm(pop_size,dimensions, lower_bound,upper_bound, \n",
    "                                                        num_generations, num_selected, num_clones, clone_factor)\n",
    "print(\"Best solution:\", best_solution)\n",
    "print(\"Best fitness:\", best_fitness)\n"
   ]
  }
 ],
 "metadata": {
  "kernelspec": {
   "display_name": "Python 3",
   "language": "python",
   "name": "python3"
  },
  "language_info": {
   "codemirror_mode": {
    "name": "ipython",
    "version": 3
   },
   "file_extension": ".py",
   "mimetype": "text/x-python",
   "name": "python",
   "nbconvert_exporter": "python",
   "pygments_lexer": "ipython3",
   "version": "3.9.16"
  }
 },
 "nbformat": 4,
 "nbformat_minor": 2
}
