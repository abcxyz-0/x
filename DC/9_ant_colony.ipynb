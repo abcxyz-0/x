{
 "cells": [
  {
   "cell_type": "markdown",
   "metadata": {},
   "source": [
    "Title: - Python Implementation of Ant Colony Optimization for the Traveling Salesman Problem"
   ]
  },
  {
   "cell_type": "code",
   "execution_count": 1,
   "metadata": {},
   "outputs": [],
   "source": [
    "import numpy as np\n",
    "\n",
    "class AntColony:\n",
    "    def __init__(self, distances, n_ants, n_best, n_iterations, decay, alpha=1, beta=1):\n",
    "        self.distances  = distances\n",
    "        self.pheromone = np.ones(self.distances.shape) / len(distances)\n",
    "        self.all_inds = range(len(distances))\n",
    "        self.n_ants = n_ants\n",
    "        self.n_best = n_best\n",
    "        self.n_iterations = n_iterations\n",
    "        self.decay = decay\n",
    "        self.alpha = alpha\n",
    "        self.beta = beta\n",
    "\n",
    "    def run(self):\n",
    "        shortest_path = None\n",
    "        shortest_path_length = np.inf\n",
    "        for i in range(self.n_iterations):\n",
    "            all_paths = self.gen_all_paths()\n",
    "            self.spread_pheronome(all_paths, self.n_best, shortest_path, shortest_path_length)\n",
    "            shortest_path, shortest_path_length = self.get_shortest(all_paths)\n",
    "            self.pheromone *= self.decay\n",
    "\n",
    "        return shortest_path, shortest_path_length\n",
    "\n",
    "    def spread_pheronome(self, all_paths, n_best, shortest_path, shortest_path_length):\n",
    "        sorted_paths = sorted(all_paths, key=lambda x: x[1])\n",
    "        for path, dist in sorted_paths[:n_best]:\n",
    "            for move in path:\n",
    "                self.pheromone[move] += 1.0 / self.distances[move]\n",
    "\n",
    "    def gen_path_dist(self, path): #cal total dist betwn node sum them\n",
    "        total_dist = 0\n",
    "        for ele in path:\n",
    "            total_dist += self.distances[ele]\n",
    "        return total_dist\n",
    "\n",
    "    def gen_all_paths(self): \n",
    "        all_paths = []\n",
    "        for i in range(self.n_ants):\n",
    "            path = self.gen_path(0)\n",
    "            all_paths.append((path, self.gen_path_dist(path)))\n",
    "        return all_paths\n",
    "\n",
    "    def gen_path(self, start): #single ant path\n",
    "        path = []\n",
    "        visited = set()\n",
    "        visited.add(start)\n",
    "        prev = start\n",
    "        for i in range(len(self.distances) - 1):\n",
    "            move = self.pick_move(self.pheromone[prev], self.distances[prev], visited)\n",
    "            path.append((prev, move))\n",
    "            prev = move \n",
    "            visited.add(move)\n",
    "        path.append((prev, start)) # going back to where we started    \n",
    "        return path\n",
    "\n",
    "    def pick_move(self, pheromone, dist, visited):\n",
    "        pheromone = np.copy(pheromone)\n",
    "        pheromone[list(visited)] = 0\n",
    "\n",
    "        row = pheromone ** self.alpha * (( 1.0 / dist) ** self.beta)\n",
    "\n",
    "        norm_row = row / row.sum()\n",
    "        move = np.random.choice(self.all_inds, 1, p=norm_row)[0]\n",
    "        return move\n",
    "\n",
    "    def get_shortest(self, all_paths):\n",
    "        best_path = None\n",
    "        best_path_length = np.inf\n",
    "        for path, dist in all_paths:\n",
    "            if dist < best_path_length:\n",
    "                best_path_length = dist\n",
    "                best_path = path\n",
    "        return best_path, best_path_length\n"
   ]
  },
  {
   "cell_type": "code",
   "execution_count": 2,
   "metadata": {},
   "outputs": [
    {
     "name": "stdout",
     "output_type": "stream",
     "text": [
      "Shortest Path: [(0, 1), (1, 3), (3, 2), (2, 0)]\n",
      "Shortest Path Length: 80.0\n"
     ]
    }
   ],
   "source": [
    "if __nam.e__ == '__main__':\n",
    "    # Define the distance matrix\n",
    "    distances = np.array([[np.inf, 5, 15, 10],\n",
    "                          [5, np.inf, 35, 25],\n",
    "                          [15, 35, np.inf, 30],\n",
    "                          [10, 25, 30, np.inf]])\n",
    "    ant_colony = AntColony(distances, n_ants=3, n_best=2, n_iterations=100, decay=0.95)\n",
    "\n",
    "    # Run the algorithm\n",
    "    shortest_path, shortest_path_length = ant_colony.run()\n",
    "\n",
    "    print(\"Shortest Path:\", shortest_path)\n",
    "    print(\"Shortest Path Length:\", shortest_path_length)\n"
   ]
  }
 ],
 "metadata": {
  "kernelspec": {
   "display_name": "Python 3",
   "language": "python",
   "name": "python3"
  },
  "language_info": {
   "codemirror_mode": {
    "name": "ipython",
    "version": 3
   },
   "file_extension": ".py",
   "mimetype": "text/x-python",
   "name": "python",
   "nbconvert_exporter": "python",
   "pygments_lexer": "ipython3",
   "version": "3.9.16"
  }
 },
 "nbformat": 4,
 "nbformat_minor": 2
}
